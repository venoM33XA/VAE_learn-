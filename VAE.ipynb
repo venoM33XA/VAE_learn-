{
 "cells": [
  {
   "cell_type": "code",
   "execution_count": 6,
   "id": "d5a34685-a803-4375-98be-b51da64e1a62",
   "metadata": {},
   "outputs": [
    {
     "data": {
      "application/vnd.jupyter.widget-view+json": {
       "model_id": "524167d5f127410083b4f608e0cd6c00",
       "version_major": 2,
       "version_minor": 0
      },
      "text/plain": [
       "README.md:   0%|          | 0.00/6.97k [00:00<?, ?B/s]"
      ]
     },
     "metadata": {},
     "output_type": "display_data"
    },
    {
     "data": {
      "application/vnd.jupyter.widget-view+json": {
       "model_id": "1ea4a746e0074a929bf8c4847d3fef9b",
       "version_major": 2,
       "version_minor": 0
      },
      "text/plain": [
       "train-00000-of-00001.parquet:   0%|          | 0.00/15.6M [00:00<?, ?B/s]"
      ]
     },
     "metadata": {},
     "output_type": "display_data"
    },
    {
     "data": {
      "application/vnd.jupyter.widget-view+json": {
       "model_id": "461e94749c884ff4a622cd9e6e63e7bf",
       "version_major": 2,
       "version_minor": 0
      },
      "text/plain": [
       "test-00000-of-00001.parquet:   0%|          | 0.00/2.60M [00:00<?, ?B/s]"
      ]
     },
     "metadata": {},
     "output_type": "display_data"
    },
    {
     "data": {
      "application/vnd.jupyter.widget-view+json": {
       "model_id": "c22041b0392b422abcd59e1c08797ac1",
       "version_major": 2,
       "version_minor": 0
      },
      "text/plain": [
       "Generating train split:   0%|          | 0/60000 [00:00<?, ? examples/s]"
      ]
     },
     "metadata": {},
     "output_type": "display_data"
    },
    {
     "data": {
      "application/vnd.jupyter.widget-view+json": {
       "model_id": "4bfec5923b6e473a9b5dc9a3213e6c2a",
       "version_major": 2,
       "version_minor": 0
      },
      "text/plain": [
       "Generating test split:   0%|          | 0/10000 [00:00<?, ? examples/s]"
      ]
     },
     "metadata": {},
     "output_type": "display_data"
    }
   ],
   "source": [
    "from datasets import load_dataset\n",
    "import numpy as np\n",
    "\n",
    "# Load the dataset\n",
    "dataset = load_dataset('mnist')\n",
    "\n",
    "# Convert to numpy arrays\n",
    "X_train = np.array(dataset['train']['image'])\n",
    "y_train = np.array(dataset['train']['label'])\n",
    "\n",
    "X_test = np.array(dataset['test']['image'])\n",
    "y_test = np.array(dataset['test']['label'])\n",
    "\n",
    "# Flatten the images (28x28 → 784)\n",
    "X_train = X_train.reshape(-1, 28 * 28)\n",
    "X_test = X_test.reshape(-1, 28 * 28)\n",
    "\n",
    "# Normalize the pixel values\n",
    "X_train = X_train.astype(np.float32) / 255.0\n",
    "X_test = X_test.astype(np.float32) / 255.0\n",
    "\n",
    "# Convert labels to integers\n",
    "y_train = y_train.astype(np.int64)\n",
    "y_test = y_test.astype(np.int64)\n"
   ]
  },
  {
   "cell_type": "code",
   "execution_count": 9,
   "id": "cd3b90d4-57a5-4868-9e11-3919554f4a38",
   "metadata": {},
   "outputs": [],
   "source": [
    "import numpy as np\n",
    "import matplotlib.pyplot as plt\n",
    "\n",
    "def show_images(images, labels):\n",
    "    \"\"\"\n",
    "    Display a set of images and their labels using matplotlib.\n",
    "    The first column of `images` should contain the image indices,\n",
    "    and the second column should contain the flattened image pixels\n",
    "    reshaped into 28x28 arrays.\n",
    "    \"\"\"\n",
    "    # Extract the image indices and reshaped pixels\n",
    "    pixels = images.reshape(-1, 28, 28)\n",
    "\n",
    "    # Create a figure with subplots for each image\n",
    "    fig, axs = plt.subplots(\n",
    "        ncols=len(images), nrows=1, figsize=(10, 3 * len(images))\n",
    "    )\n",
    "\n",
    "    # Loop over the images and display them with their labels\n",
    "    for i in range(len(images)):\n",
    "        # Display the image and its label\n",
    "        axs[i].imshow(pixels[i], cmap=\"gray\")\n",
    "        axs[i].set_title(\"Label: {}\".format(labels[i]))\n",
    "\n",
    "        # Remove the tick marks and axis labels\n",
    "        axs[i].set_xticks([])\n",
    "        axs[i].set_yticks([])\n",
    "        axs[i].set_xlabel(\"Index: {}\".format(i))\n",
    "\n",
    "    # Adjust the spacing between subplots\n",
    "    fig.subplots_adjust(hspace=0.5)\n",
    "\n",
    "    # Show the figure\n",
    "    plt.show()"
   ]
  },
  {
   "cell_type": "code",
   "execution_count": 10,
   "id": "f85a9fe3-7e91-4e99-b2da-8a1ab347418b",
   "metadata": {},
   "outputs": [
    {
     "data": {
      "image/png": "[encoded data removed]",
      "text/plain": [
       "<Figure size 1000x1500 with 5 Axes>"
      ]
     },
     "metadata": {},
     "output_type": "display_data"
    }
   ],
   "source": [
    "show_images(X_test[0:5],y_test[0:5])"
   ]
  },
  {
   "cell_type": "code",
   "execution_count": 11,
   "id": "b892e989-603c-4bb0-89b9-721e8d45dcaa",
   "metadata": {},
   "outputs": [],
   "source": [
    "import torch.nn as nn "
   ]
  },
  {
   "cell_type": "code",
   "execution_count": 17,
   "id": "f75f7290-2a02-4d6a-b90f-7cb7f8c7dc3c",
   "metadata": {},
   "outputs": [],
   "source": [
    "class AutoEncoder(nn.Module):\n",
    "    def __init__(self):\n",
    "        super().__init__()\n",
    "        self.num_hidden=8\n",
    "        self.encoder = nn.Sequential(\n",
    "            nn.Linear(784, 256),  # input size: 784, output size: 256\n",
    "            nn.ReLU(),  # apply the ReLU activation function\n",
    "            nn.Linear(256, self.num_hidden),  # input size: 256, output size: num_hidden\n",
    "            nn.ReLU(),  # apply the ReLU activation function\n",
    "        )\n",
    "        \n",
    "        # Define the decoder part of the autoencoder\n",
    "        self.decoder = nn.Sequential(\n",
    "            nn.Linear(self.num_hidden, 256),  # input size: num_hidden, output size: 256\n",
    "            nn.ReLU(),  # apply the ReLU activation function\n",
    "            nn.Linear(256, 784),  # input size: 256, output size: 784\n",
    "            nn.Sigmoid(),  # apply the sigmoid activation function to compress the output to a range of (0, 1)\n",
    "        )\n",
    "    def forward(self,x):\n",
    "         encoded = self.encoder(x)\n",
    "         decoded = self.decoder(encoded)\n",
    "         return encoded ,decoded "
   ]
  },
  {
   "cell_type": "code",
   "execution_count": 27,
   "id": "ae785c8e-b730-40d1-8b79-6af6b7f04d67",
   "metadata": {},
   "outputs": [],
   "source": [
    "import torch\n",
    "import torch.nn as nn\n",
    "import torch.optim as optim\n",
    "import numpy as np\n",
    "\n",
    "#X_train = torch.from_numpy(X_train)\n",
    "learning_rate =0.001\n",
    "batch_size=64\n",
    "\n",
    "# Create the autoencoder model and optimizer\n",
    "model = AutoEncoder()\n",
    "optimizer = optim.Adam(model.parameters(), lr=learning_rate)\n",
    "\n",
    "# Define the loss function\n",
    "criterion = nn.MSELoss()\n",
    "\n",
    "\n",
    "# Create a DataLoader to handle batching of the training data\n",
    "train_loader = torch.utils.data.DataLoader(\n",
    "    X_train, batch_size=batch_size, shuffle=True\n",
    ")"
   ]
  },
  {
   "cell_type": "code",
   "execution_count": 28,
   "id": "e833fcfe-671d-4ab3-b459-e519bfbb854f",
   "metadata": {},
   "outputs": [
    {
     "name": "stdout",
     "output_type": "stream",
     "text": [
      "Epoch 1/50: loss=0.0425\n",
      "Epoch 2/50: loss=0.0319\n",
      "Epoch 3/50: loss=0.0303\n",
      "Epoch 4/50: loss=0.0293\n",
      "Epoch 5/50: loss=0.0286\n",
      "Epoch 6/50: loss=0.0281\n",
      "Epoch 7/50: loss=0.0277\n",
      "Epoch 8/50: loss=0.0274\n",
      "Epoch 9/50: loss=0.0271\n",
      "Epoch 10/50: loss=0.0269\n",
      "Epoch 11/50: loss=0.0267\n",
      "Epoch 12/50: loss=0.0265\n",
      "Epoch 13/50: loss=0.0264\n",
      "Epoch 14/50: loss=0.0262\n",
      "Epoch 15/50: loss=0.0260\n",
      "Epoch 16/50: loss=0.0259\n",
      "Epoch 17/50: loss=0.0258\n",
      "Epoch 18/50: loss=0.0256\n",
      "Epoch 19/50: loss=0.0255\n",
      "Epoch 20/50: loss=0.0254\n",
      "Epoch 21/50: loss=0.0253\n",
      "Epoch 22/50: loss=0.0252\n",
      "Epoch 23/50: loss=0.0251\n",
      "Epoch 24/50: loss=0.0250\n",
      "Epoch 25/50: loss=0.0249\n",
      "Epoch 26/50: loss=0.0249\n",
      "Epoch 27/50: loss=0.0248\n",
      "Epoch 28/50: loss=0.0247\n",
      "Epoch 29/50: loss=0.0247\n",
      "Epoch 30/50: loss=0.0246\n",
      "Epoch 31/50: loss=0.0246\n",
      "Epoch 32/50: loss=0.0245\n",
      "Epoch 33/50: loss=0.0244\n",
      "Epoch 34/50: loss=0.0244\n",
      "Epoch 35/50: loss=0.0243\n",
      "Epoch 36/50: loss=0.0243\n",
      "Epoch 37/50: loss=0.0242\n",
      "Epoch 38/50: loss=0.0242\n",
      "Epoch 39/50: loss=0.0241\n",
      "Epoch 40/50: loss=0.0241\n",
      "Epoch 41/50: loss=0.0241\n",
      "Epoch 42/50: loss=0.0240\n",
      "Epoch 43/50: loss=0.0240\n",
      "Epoch 44/50: loss=0.0240\n",
      "Epoch 45/50: loss=0.0239\n",
      "Epoch 46/50: loss=0.0239\n",
      "Epoch 47/50: loss=0.0239\n",
      "Epoch 48/50: loss=0.0238\n",
      "Epoch 49/50: loss=0.0238\n",
      "Epoch 50/50: loss=0.0238\n"
     ]
    }
   ],
   "source": [
    "num_epochs =50\n",
    "for epoch in range(num_epochs):\n",
    "    total_loss = 0.0\n",
    "    for batch_idx, data in enumerate(train_loader):\n",
    "        # Get a batch of training data and move it to the device\n",
    "        #data = data.to(device)\n",
    "\n",
    "        # Forward pass\n",
    "        encoded, decoded = model(data)\n",
    "\n",
    "        # Compute the loss and perform backpropagation\n",
    "        loss = criterion(decoded, data)\n",
    "        optimizer.zero_grad()\n",
    "        loss.backward()\n",
    "        optimizer.step()\n",
    "\n",
    "        # Update the running loss\n",
    "        total_loss += loss.item() * data.size(0)\n",
    "\n",
    "    # Print the epoch loss\n",
    "    epoch_loss = total_loss / len(train_loader.dataset)\n",
    "    print(\n",
    "        \"Epoch {}/{}: loss={:.4f}\".format(epoch + 1, num_epochs, epoch_loss)\n",
    "    )"
   ]
  },
  {
   "cell_type": "code",
   "execution_count": 30,
   "id": "d75812c3-813b-40fc-afdc-87e6115669d8",
   "metadata": {},
   "outputs": [
    {
     "data": {
      "image/png": "[encoded data removed]",
      "text/plain": [
       "<Figure size 1200x500 with 10 Axes>"
      ]
     },
     "metadata": {},
     "output_type": "display_data"
    },
    {
     "name": "stdout",
     "output_type": "stream",
     "text": [
      "Test Loss: 0.0244\n"
     ]
    }
   ],
   "source": [
    "test_loader = torch.utils.data.DataLoader(\n",
    "    X_test, batch_size=batch_size, shuffle=True\n",
    ")\n",
    "\n",
    "\n",
    "# Set the model to evaluation mode\n",
    "model.eval()\n",
    "test_loss = 0.0\n",
    "\n",
    "with torch.no_grad():\n",
    "    for batch_idx, data in enumerate(test_loader):\n",
    "        # Move data to the same device\n",
    "       # data = data.to(device)\n",
    "\n",
    "        # Forward pass\n",
    "        encoded, decoded = model(data)\n",
    "\n",
    "        # Compute the loss\n",
    "        loss = criterion(decoded, data)\n",
    "        test_loss += loss.item() * data.size(0)\n",
    "\n",
    "        # Show input and output for the first batch only\n",
    "        if batch_idx == 0:\n",
    "            import matplotlib.pyplot as plt\n",
    "\n",
    "            n = 5  # Number of images to display\n",
    "            fig, axes = plt.subplots(2, n, figsize=(12, 5))\n",
    "            for i in range(n):\n",
    "                # Input image\n",
    "                axes[0, i].imshow(data[i].detach().cpu().numpy().reshape(28, 28), cmap=\"gray\")\n",
    "                axes[0, i].set_title(f\"Input {i + 1}\")\n",
    "                axes[0, i].axis(\"off\")\n",
    "\n",
    "                # Output (reconstructed) image\n",
    "                axes[1, i].imshow(decoded[i].detach().cpu().numpy().reshape(28, 28), cmap=\"gray\")\n",
    "                axes[1, i].set_title(f\"Output {i + 1}\")\n",
    "                axes[1, i].axis(\"off\")\n",
    "\n",
    "            plt.show()\n",
    "\n",
    "# Calculate the average test loss\n",
    "test_loss /= len(test_loader.dataset)\n",
    "print(f\"Test Loss: {test_loss:.4f}\")\n"
   ]
  },
  {
   "cell_type": "code",
   "execution_count": 37,
   "id": "0a09f536-3c41-4a16-9d7a-3481dd1b6eb6",
   "metadata": {},
   "outputs": [
    {
     "data": {
      "image/png": "[encoded data removed]",
      "text/plain": [
       "<Figure size 1200x300 with 5 Axes>"
      ]
     },
     "metadata": {},
     "output_type": "display_data"
    }
   ],
   "source": [
    "import torch\n",
    "import matplotlib.pyplot as plt\n",
    "\n",
    "# Set the model to evaluation mode\n",
    "model.eval()\n",
    "\n",
    "# Number of samples to generate\n",
    "n_samples = 5\n",
    "latent_dim = model.num_hidden  # Latent space dimension\n",
    "\n",
    "# Generate random latent vectors from a normal distribution\n",
    "latent_vectors = torch.randn(n_samples, latent_dim)\n",
    "\n",
    "\n",
    "# Pass through the decoder to generate samples\n",
    "with torch.no_grad():\n",
    "    generated = model.decoder(latent_vectors)\n",
    "\n",
    "# Plot the generated samples\n",
    "fig, axes = plt.subplots(1, n_samples, figsize=(12, 3))\n",
    "for i in range(n_samples):\n",
    "    axes[i].imshow(generated[i].cpu().numpy().reshape(28, 28), cmap=\"gray\")\n",
    "    axes[i].set_title(f\"Sample {i + 1}\")\n",
    "    axes[i].axis(\"off\")\n",
    "\n",
    "plt.show()\n"
   ]
  },
  {
   "cell_type": "code",
   "execution_count": null,
   "id": "ccadf546-2a54-4176-bcd7-46b7998d8bc0",
   "metadata": {},
   "outputs": [],
   "source": [
    "class VAE(AutoEncoder):\n",
    "    def __init__(self):\n",
    "        super().__init__()\n",
    "        self.mu = nn.Linear(self.num_hidden, self.num_hidden)\n",
    "        self.log_var = nn.Linear(self.num_hidden, self.num_hidden)\n",
    "\n",
    "    def reparameterize(self,mu,log_var):\n",
    "         std = torch.exp(0.5 * log_var)\n",
    "         eps = torch.randn_like(std)\n",
    "         return mu + eps * std\n",
    "    def forward(self, x):\n",
    "        # Pass the input through the encoder\n",
    "        encoded = self.encoder(x)\n",
    "        mu = self.mu(encoded)\n",
    "        log_var = self.log_var(encoded)\n",
    "        z = self.reparameterize(mu, log_var)\n",
    "        decoded = self.decoder(z)\n",
    "        # Return the encoded output, decoded output, mean, and log variance\n",
    "        return encoded, decoded, mu, log_var\n",
    "\n",
    "    def sample(self, num_samples):\n",
    "        with torch.no_grad():\n",
    "            # Generate random noise\n",
    "            z = torch.randn(num_samples, self.num_hidden)\n",
    "            samples = self.decoder(z)\n",
    "        # Return the generated samples\n",
    "        return samples"
   ]
  },
  {
   "cell_type": "code",
   "execution_count": null,
   "id": "0de625c0-7b9b-44f3-8df1-bc138911b409",
   "metadata": {},
   "outputs": [],
   "source": [
    "def loss_func(recon_x,x,mu,logvar):\n",
    "    BCE = F.binary_cross_entropy(recon_x, x.view(-1, 784), reduction=\"sum\")\n",
    "    # Compute the Kullback-Leibler divergence between the learned latent variable distribution and a standard Gaussian distribution\n",
    "    KLD = -0.5 * torch.sum(1 + logvar - mu.pow(2) - logvar.exp())\n",
    "    return BCE + KLD"
   ]
  },
  {
   "cell_type": "code",
   "execution_count": null,
   "id": "c5112518-a5ce-4dca-9d15-367ce9bff50f",
   "metadata": {},
   "outputs": [],
   "source": [
    "import torch.nn.functional as F\n",
    "def train_vae(X_train, learning_rate=1e-3, num_epochs=100, batch_size=32):\n",
    "    model = VAE()\n",
    "    optimizer = optim.Adam(model.parameters(), lr=learning_rate)\n",
    "    criterion = nn.MSELoss(reduction=\"sum\")\n",
    "    train_loader = torch.utils.data.DataLoader(\n",
    "        X_train, batch_size=batch_size, shuffle=True\n",
    "    )\n",
    "    for epoch in range(num_epochs):\n",
    "        total_loss = 0.0\n",
    "        for batch_idx, data in enumerate(train_loader):\n",
    "            # Get a batch of training data and move it to the device\n",
    "            #data = data.to(device)\n",
    "\n",
    "            # Forward pass\n",
    "            encoded, decoded, mu, logvar = model(data)\n",
    "            loss = loss_func(decoded,data,mu,logvar)\n",
    "            optimizer.zero_grad()\n",
    "            loss.backward()\n",
    "            optimizer.step()\n",
    "\n",
    "            # Update the running loss\n",
    "            total_loss += loss.item() * data.size(0)\n",
    "\n",
    "       \n",
    "        epoch_loss = total_loss / len(train_loader.dataset)\n",
    "        print(\n",
    "            \"Epoch {}/{}: loss={:.4f}\".format(epoch + 1, num_epochs, epoch_loss)\n",
    "        )\n",
    "\n",
    "    # Return the trained model\n",
    "    return model"
   ]
  },
  {
   "cell_type": "code",
   "execution_count": null,
   "id": "2ccaff8e-418a-4bb2-aafe-426d8a7299c2",
   "metadata": {},
   "outputs": [
    {
     "name": "stdout",
     "output_type": "stream",
     "text": [
      "Epoch 1/100: loss=5375.4581\n",
      "Epoch 2/100: loss=4476.2917\n",
      "Epoch 3/100: loss=4332.7596\n",
      "Epoch 4/100: loss=4251.8091\n",
      "Epoch 5/100: loss=4198.9031\n",
      "Epoch 6/100: loss=4159.7004\n",
      "Epoch 7/100: loss=4128.8111\n",
      "Epoch 8/100: loss=4103.5893\n",
      "Epoch 9/100: loss=4082.6404\n",
      "Epoch 10/100: loss=4065.4259\n",
      "Epoch 11/100: loss=4049.1549\n",
      "Epoch 12/100: loss=4035.6495\n",
      "Epoch 13/100: loss=4022.7179\n",
      "Epoch 14/100: loss=4012.8027\n",
      "Epoch 15/100: loss=4002.2477\n",
      "Epoch 16/100: loss=3993.1992\n",
      "Epoch 17/100: loss=3985.8876\n",
      "Epoch 18/100: loss=3977.4059\n",
      "Epoch 19/100: loss=3972.1555\n",
      "Epoch 20/100: loss=3963.3491\n",
      "Epoch 21/100: loss=3957.2052\n",
      "Epoch 22/100: loss=3952.7717\n",
      "Epoch 23/100: loss=3945.8575\n",
      "Epoch 24/100: loss=3941.1994\n",
      "Epoch 25/100: loss=3935.7914\n",
      "Epoch 26/100: loss=3930.2538\n",
      "Epoch 27/100: loss=3927.4828\n",
      "Epoch 28/100: loss=3922.1694\n",
      "Epoch 29/100: loss=3917.9925\n",
      "Epoch 30/100: loss=3914.3997\n",
      "Epoch 31/100: loss=3910.5159\n",
      "Epoch 32/100: loss=3906.7444\n",
      "Epoch 33/100: loss=3904.1813\n",
      "Epoch 34/100: loss=3900.7315\n",
      "Epoch 35/100: loss=3897.8391\n",
      "Epoch 36/100: loss=3893.7128\n",
      "Epoch 37/100: loss=3890.7628\n",
      "Epoch 38/100: loss=3887.8441\n",
      "Epoch 39/100: loss=3885.0980\n",
      "Epoch 40/100: loss=3882.9203\n",
      "Epoch 41/100: loss=3880.0587\n",
      "Epoch 42/100: loss=3878.8325\n",
      "Epoch 43/100: loss=3875.2231\n",
      "Epoch 44/100: loss=3872.8335\n",
      "Epoch 45/100: loss=3870.9373\n",
      "Epoch 46/100: loss=3867.6881\n",
      "Epoch 47/100: loss=3867.1201\n",
      "Epoch 48/100: loss=3864.3896\n",
      "Epoch 49/100: loss=3863.0032\n",
      "Epoch 50/100: loss=3861.0796\n",
      "Epoch 51/100: loss=3858.8244\n",
      "Epoch 52/100: loss=3858.0199\n",
      "Epoch 53/100: loss=3854.3063\n",
      "Epoch 54/100: loss=3854.5814\n",
      "Epoch 55/100: loss=3852.9085\n",
      "Epoch 56/100: loss=3851.0540\n",
      "Epoch 57/100: loss=3849.0204\n",
      "Epoch 58/100: loss=3849.0934\n",
      "Epoch 59/100: loss=3846.5716\n",
      "Epoch 60/100: loss=3845.7875\n",
      "Epoch 61/100: loss=3843.9039\n",
      "Epoch 62/100: loss=3842.3437\n",
      "Epoch 63/100: loss=3841.0768\n",
      "Epoch 64/100: loss=3840.4691\n",
      "Epoch 65/100: loss=3838.4391\n",
      "Epoch 66/100: loss=3837.3316\n",
      "Epoch 67/100: loss=3836.6673\n",
      "Epoch 68/100: loss=3834.1756\n",
      "Epoch 69/100: loss=3834.4109\n",
      "Epoch 70/100: loss=3832.7665\n",
      "Epoch 71/100: loss=3832.0520\n",
      "Epoch 72/100: loss=3830.2557\n",
      "Epoch 73/100: loss=3829.6449\n",
      "Epoch 74/100: loss=3829.4982\n",
      "Epoch 75/100: loss=3827.0917\n",
      "Epoch 76/100: loss=3827.0118\n",
      "Epoch 77/100: loss=3825.4785\n",
      "Epoch 78/100: loss=3824.6284\n",
      "Epoch 79/100: loss=3824.0747\n",
      "Epoch 80/100: loss=3823.8762\n",
      "Epoch 81/100: loss=3821.1080\n",
      "Epoch 82/100: loss=3820.5122\n",
      "Epoch 83/100: loss=3820.2258\n",
      "Epoch 84/100: loss=3819.8601\n",
      "Epoch 85/100: loss=3817.9467\n",
      "Epoch 86/100: loss=3817.6554\n",
      "Epoch 87/100: loss=3817.4147\n",
      "Epoch 88/100: loss=3816.6553\n",
      "Epoch 89/100: loss=3814.6814\n",
      "Epoch 90/100: loss=3815.3214\n",
      "Epoch 91/100: loss=3814.6631\n",
      "Epoch 92/100: loss=3812.4589\n",
      "Epoch 93/100: loss=3812.5716\n",
      "Epoch 94/100: loss=3811.4816\n",
      "Epoch 95/100: loss=3809.9010\n",
      "Epoch 96/100: loss=3809.9409\n",
      "Epoch 97/100: loss=3810.9581\n",
      "Epoch 98/100: loss=3806.5546\n",
      "Epoch 99/100: loss=3807.3772\n",
      "Epoch 100/100: loss=3807.9253\n"
     ]
    },
    {
     "data": {
      "text/plain": [
       "VAE(\n",
       "  (encoder): Sequential(\n",
       "    (0): Linear(in_features=784, out_features=256, bias=True)\n",
       "    (1): ReLU()\n",
       "    (2): Linear(in_features=256, out_features=8, bias=True)\n",
       "    (3): ReLU()\n",
       "  )\n",
       "  (decoder): Sequential(\n",
       "    (0): Linear(in_features=8, out_features=256, bias=True)\n",
       "    (1): ReLU()\n",
       "    (2): Linear(in_features=256, out_features=784, bias=True)\n",
       "    (3): Sigmoid()\n",
       "  )\n",
       "  (mu): Linear(in_features=8, out_features=8, bias=True)\n",
       "  (log_var): Linear(in_features=8, out_features=8, bias=True)\n",
       ")"
      ]
     },
     "execution_count": 71,
     "metadata": {},
     "output_type": "execute_result"
    }
   ],
   "source": [
    "train_vae(X_train)"
   ]
  },
  {
   "cell_type": "code",
   "execution_count": null,
   "id": "7dc64cb9-34e9-4778-ad14-7dc2b95e2602",
   "metadata": {},
   "outputs": [],
   "source": [
    "def test_vae(X_test, batch_size=32):\n",
    "    model = VAE()\n",
    "    model.eval()\n",
    "    test_loader = torch.utils.data.DataLoader(\n",
    "        X_test, batch_size=batch_size, shuffle=False\n",
    "    )\n",
    "    \n",
    "    total_loss = 0.0\n",
    "    criterion = nn.MSELoss(reduction=\"sum\")\n",
    "    \n",
    "    with torch.no_grad():\n",
    "        for data in test_loader:\n",
    "            # data = data.to(device)\n",
    "            encoded, decoded, mu, logvar = model(data)\n",
    "            loss = loss_func(decoded, data, mu, logvar)\n",
    "            total_loss += loss.item() * data.size(0)\n",
    "\n",
    "    # Compute average loss over the dataset\n",
    "    avg_loss = total_loss / len(test_loader.dataset)\n",
    "    print(f\"Test Loss: {avg_loss:.4f}\")\n",
    "\n",
    "    # Display some regenerated images\n",
    "    num_samples = 5\n",
    "    data_iter = iter(test_loader)\n",
    "    original = next(data_iter)[:num_samples]\n",
    "    \n",
    "    _, regenerated, _, _ = model(original)\n",
    "    \n",
    "    # Plot original and regenerated images side by side\n",
    "    import matplotlib.pyplot as plt\n",
    "    \n",
    "    fig, axes = plt.subplots(2, num_samples, figsize=(12, 5))\n",
    "    for i in range(num_samples):\n",
    "        # Original\n",
    "        axes[0, i].imshow(original[i].detach().numpy().reshape(28, 28), cmap=\"gray\")\n",
    "        axes[0, i].set_title(f\"Original {i + 1}\")\n",
    "        axes[0, i].axis(\"off\")\n",
    "\n",
    "        # Regenerated\n",
    "        axes[1, i].imshow(regenerated[i].detach().numpy().reshape(28, 28), cmap=\"gray\")\n",
    "        axes[1, i].set_title(f\"Reconstructed {i + 1}\")\n",
    "        axes[1, i].axis(\"off\")\n",
    "    \n",
    "    plt.show()\n"
   ]
  },
  {
   "cell_type": "code",
   "execution_count": null,
   "id": "4f6057e7-4d43-4407-9fae-9a6d44fc0521",
   "metadata": {},
   "outputs": [],
   "source": [
    "test_vae(X_test)"
   ]
  },
  {
   "cell_type": "code",
   "execution_count": 74,
   "id": "81e74b9e-71d0-4fec-a59d-4f7c8da5a46b",
   "metadata": {},
   "outputs": [
    {
     "data": {
      "image/png": "[encoded data removed]",
      "text/plain": [
       "<Figure size 1200x500 with 5 Axes>"
      ]
     },
     "metadata": {},
     "output_type": "display_data"
    }
   ],
   "source": [
    "def sample_from_vae(num_samples=5):\n",
    "    model =VAE()\n",
    "    model.eval()  # Set the model to evaluation mode\n",
    "    \n",
    "    # Generate samples from the latent space\n",
    "    samples = model.sample(num_samples)\n",
    "    \n",
    "    # Plot the generated samples\n",
    "    import matplotlib.pyplot as plt\n",
    "    \n",
    "    fig, axes = plt.subplots(1, num_samples, figsize=(12, 5))\n",
    "    for i in range(num_samples):\n",
    "        axes[i].imshow(samples[i].cpu().numpy().reshape(28, 28), cmap=\"gray\")\n",
    "        axes[i].set_title(f\"Sample {i + 1}\")\n",
    "        axes[i].axis(\"off\")\n",
    "    \n",
    "    plt.show()\n",
    "\n",
    "# After training:\n",
    "#vae = train_vae(X_train)  # Train the model\n",
    "sample_from_vae(num_samples=5)  # ✅ Generate 5 new samples\n"
   ]
  },
  {
   "cell_type": "code",
   "execution_count": 77,
   "id": "bde24a5b-95fb-4c30-8321-5a16f786917d",
   "metadata": {},
   "outputs": [
    {
     "name": "stdout",
     "output_type": "stream",
     "text": [
      "Epoch 1/100: loss=5283.1414\n",
      "Epoch 2/100: loss=4515.0801\n",
      "Epoch 3/100: loss=4379.2995\n",
      "Epoch 4/100: loss=4303.1145\n",
      "Epoch 5/100: loss=4248.0333\n",
      "Epoch 6/100: loss=4199.6376\n",
      "Epoch 7/100: loss=4156.1289\n",
      "Epoch 8/100: loss=4115.8028\n",
      "Epoch 9/100: loss=4087.7835\n",
      "Epoch 10/100: loss=4069.2488\n",
      "Epoch 11/100: loss=4051.7752\n",
      "Epoch 12/100: loss=4036.7151\n",
      "Epoch 13/100: loss=4024.5359\n",
      "Epoch 14/100: loss=4013.8398\n",
      "Epoch 15/100: loss=4003.5718\n",
      "Epoch 16/100: loss=3994.2215\n",
      "Epoch 17/100: loss=3985.7323\n",
      "Epoch 18/100: loss=3978.4610\n",
      "Epoch 19/100: loss=3971.7941\n",
      "Epoch 20/100: loss=3965.0473\n",
      "Epoch 21/100: loss=3959.7232\n",
      "Epoch 22/100: loss=3953.6967\n",
      "Epoch 23/100: loss=3949.6666\n",
      "Epoch 24/100: loss=3943.3140\n",
      "Epoch 25/100: loss=3939.1638\n",
      "Epoch 26/100: loss=3934.3830\n",
      "Epoch 27/100: loss=3930.6684\n",
      "Epoch 28/100: loss=3927.1674\n",
      "Epoch 29/100: loss=3924.0413\n",
      "Epoch 30/100: loss=3920.7801\n",
      "Epoch 31/100: loss=3916.3182\n",
      "Epoch 32/100: loss=3913.9682\n",
      "Epoch 33/100: loss=3909.3916\n",
      "Epoch 34/100: loss=3905.8526\n",
      "Epoch 35/100: loss=3904.0981\n",
      "Epoch 36/100: loss=3901.6526\n",
      "Epoch 37/100: loss=3898.3430\n",
      "Epoch 38/100: loss=3895.4339\n",
      "Epoch 39/100: loss=3892.7546\n",
      "Epoch 40/100: loss=3890.0473\n",
      "Epoch 41/100: loss=3889.3786\n",
      "Epoch 42/100: loss=3885.9624\n",
      "Epoch 43/100: loss=3884.2768\n",
      "Epoch 44/100: loss=3882.0394\n",
      "Epoch 45/100: loss=3879.9412\n",
      "Epoch 46/100: loss=3877.0325\n",
      "Epoch 47/100: loss=3875.5586\n",
      "Epoch 48/100: loss=3874.0750\n",
      "Epoch 49/100: loss=3871.8532\n",
      "Epoch 50/100: loss=3869.5474\n",
      "Epoch 51/100: loss=3867.9576\n",
      "Epoch 52/100: loss=3866.9067\n",
      "Epoch 53/100: loss=3865.2369\n",
      "Epoch 54/100: loss=3864.0446\n",
      "Epoch 55/100: loss=3861.2478\n",
      "Epoch 56/100: loss=3859.8980\n",
      "Epoch 57/100: loss=3858.6716\n",
      "Epoch 58/100: loss=3856.4304\n",
      "Epoch 59/100: loss=3855.9151\n",
      "Epoch 60/100: loss=3854.2290\n",
      "Epoch 61/100: loss=3853.2259\n",
      "Epoch 62/100: loss=3852.4340\n",
      "Epoch 63/100: loss=3850.0665\n",
      "Epoch 64/100: loss=3849.4473\n",
      "Epoch 65/100: loss=3847.7893\n",
      "Epoch 66/100: loss=3846.7537\n",
      "Epoch 67/100: loss=3844.8119\n",
      "Epoch 68/100: loss=3845.3291\n",
      "Epoch 69/100: loss=3843.3080\n",
      "Epoch 70/100: loss=3841.8404\n",
      "Epoch 71/100: loss=3840.3453\n",
      "Epoch 72/100: loss=3839.9199\n",
      "Epoch 73/100: loss=3838.8273\n",
      "Epoch 74/100: loss=3837.6087\n",
      "Epoch 75/100: loss=3836.6848\n",
      "Epoch 76/100: loss=3836.6817\n",
      "Epoch 77/100: loss=3833.6357\n",
      "Epoch 78/100: loss=3834.1203\n",
      "Epoch 79/100: loss=3833.4613\n",
      "Epoch 80/100: loss=3831.8699\n",
      "Epoch 81/100: loss=3830.5133\n",
      "Epoch 82/100: loss=3830.0267\n",
      "Epoch 83/100: loss=3827.8481\n",
      "Epoch 84/100: loss=3828.5533\n",
      "Epoch 85/100: loss=3828.0194\n",
      "Epoch 86/100: loss=3827.4326\n",
      "Epoch 87/100: loss=3826.1038\n",
      "Epoch 88/100: loss=3825.6445\n",
      "Epoch 89/100: loss=3824.4323\n",
      "Epoch 90/100: loss=3823.3061\n",
      "Epoch 91/100: loss=3822.5069\n",
      "Epoch 92/100: loss=3821.7380\n",
      "Epoch 93/100: loss=3819.8483\n",
      "Epoch 94/100: loss=3820.1136\n",
      "Epoch 95/100: loss=3820.7940\n",
      "Epoch 96/100: loss=3819.9020\n",
      "Epoch 97/100: loss=3816.9704\n",
      "Epoch 98/100: loss=3817.6037\n",
      "Epoch 99/100: loss=3816.7025\n",
      "Epoch 100/100: loss=3815.4211\n"
     ]
    }
   ],
   "source": [
    "def sample_from_vae( model,num_samples=5):\n",
    "    #model =VAE()\n",
    "    model.eval()  # Set the model to evaluation mode\n",
    "    \n",
    "    with torch.no_grad():\n",
    "        # Sample from a standard normal distribution in the latent space\n",
    "        z = torch.randn(num_samples, model.num_hidden)  # Shape: (num_samples, latent_dim)\n",
    "        samples = model.decoder(z)  # Decode the latent vector to generate new images\n",
    "    \n",
    "    # Plot the generated samples\n",
    "    import matplotlib.pyplot as plt\n",
    "    \n",
    "    fig, axes = plt.subplots(1, num_samples, figsize=(12, 5))\n",
    "    for i in range(num_samples):\n",
    "        axes[i].imshow(samples[i].cpu().numpy().reshape(28, 28), cmap=\"gray\")\n",
    "        axes[i].set_title(f\"Sample {i + 1}\")\n",
    "        axes[i].axis(\"off\")\n",
    "    \n",
    "    plt.show()\n",
    "\n",
    "# After training:\n",
    "vae = train_vae(X_train)\n",
    "\n"
   ]
  },
  {
   "cell_type": "code",
   "execution_count": 78,
   "id": "c0945121-2bc5-4dfc-843c-ad776dfe66fc",
   "metadata": {},
   "outputs": [
    {
     "data": {
      "image/png": "[encoded data removed]",
      "text/plain": [
       "<Figure size 1200x500 with 5 Axes>"
      ]
     },
     "metadata": {},
     "output_type": "display_data"
    }
   ],
   "source": [
    "sample_from_vae(vae, num_samples=5)  # ✅ Generate 5 new samples"
   ]
  },
  {
   "cell_type": "code",
   "execution_count": null,
   "id": "75ca14da-47dc-49fa-929a-a3a4eca476a2",
   "metadata": {},
   "outputs": [],
   "source": []
  }
 ],
 "metadata": {
  "kernelspec": {
   "display_name": "Python 3 (ipykernel)",
   "language": "python",
   "name": "python3"
  },
  "language_info": {
   "codemirror_mode": {
    "name": "ipython",
    "version": 3
   },
   "file_extension": ".py",
   "mimetype": "text/x-python",
   "name": "python",
   "nbconvert_exporter": "python",
   "pygments_lexer": "ipython3",
   "version": "3.13.1"
  }
 },
 "nbformat": 4,
 "nbformat_minor": 5
}
